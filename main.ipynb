{
 "cells": [
  {
   "cell_type": "code",
   "execution_count": 2,
   "metadata": {},
   "outputs": [],
   "source": [
    "from typing import Optional\n",
    "from fastapi import FastAPI\n",
    "from pydantic import BaseModel"
   ]
  },
  {
   "cell_type": "code",
   "execution_count": null,
   "metadata": {},
   "outputs": [],
   "source": [
    "app = FastAPI()\n",
    "\n",
    "class Property(BaseModel):\n",
    "    area: int\n",
    "    property_type: str\n",
    "    rooms_number: int\n",
    "    zip_code: int\n",
    "    land_area: Optional[int] = None\n",
    "    garden: Optional[bool] = None\n",
    "    garden_area: Optional[int] = None\n",
    "    equipped_kitchen: Optional[bool] = None\n",
    "    full_address: Optional[str] = None\n",
    "    swimming_pool: Optional[bool] = None\n",
    "    furnished: Optional[bool] = None\n",
    "    open_fire: Optional[bool] = None\n",
    "    terrace: Optional[bool] = None\n",
    "    terrace_area: Optional[int] = None\n",
    "    facades_number: Optional[int] = None\n",
    "    building_state: Optional[str] = None\n",
    "\n",
    "@app.post(\"/predict\")\n",
    "def predict_property_price(property: Property):\n",
    "    \n",
    "    prediction = None \n",
    "\n",
    "    if prediction is not None:\n",
    "        return {\"prediction\": prediction}\n",
    "    else:\n",
    "        return {\"error\": \"Could not compute prediction, please try again.\"}"
   ]
  }
 ],
 "metadata": {
  "kernelspec": {
   "display_name": "Python 3",
   "language": "python",
   "name": "python3"
  },
  "language_info": {
   "codemirror_mode": {
    "name": "ipython",
    "version": 3
   },
   "file_extension": ".py",
   "mimetype": "text/x-python",
   "name": "python",
   "nbconvert_exporter": "python",
   "pygments_lexer": "ipython3",
   "version": "3.10.11"
  },
  "orig_nbformat": 4
 },
 "nbformat": 4,
 "nbformat_minor": 2
}
